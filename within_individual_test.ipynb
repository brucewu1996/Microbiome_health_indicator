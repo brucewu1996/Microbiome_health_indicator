{
 "cells": [
  {
   "cell_type": "code",
   "execution_count": 57,
   "metadata": {},
   "outputs": [],
   "source": [
    "import numpy as np\n",
    "import pandas as pd\n",
    "import sys\n",
    "import re\n",
    "import matplotlib.pyplot as plt\n",
    "import seaborn as sns\n",
    "sys.path.append(\"/home/bruce1996/data/Yi-Fung-Chuang/\")\n",
    "from microbiome_preprocessing import split_tax,filter_taxa_by_prevalence,relative_abundance"
   ]
  },
  {
   "cell_type": "markdown",
   "metadata": {},
   "source": [
    "### Taxonomy profile pre-processing"
   ]
  },
  {
   "cell_type": "code",
   "execution_count": 50,
   "metadata": {},
   "outputs": [],
   "source": [
    "path = \"/home/bruce1996/data/Yi-Fung-Chuang/within_individual_test/within_individual_test.mpa\"\n",
    "ab_table,tax_table = split_tax(path)\n",
    "otu_table = relative_abundance(ab_table)\n",
    "\n",
    "tax = list(otu_table.index)\n",
    "idx = [bool(re.search('s__\\S+', x)) for x in tax]\n",
    "otu_table = otu_table[idx]\n",
    "tax_table = tax_table[idx]\n",
    "#remove strain level information\n",
    "import operator\n",
    "rm_tax = list(otu_table.index)\n",
    "rm_idx = [bool(re.search('s__\\S+s__\\S+', x)) for x in rm_tax]\n",
    "idx = list(map(operator.not_, rm_idx))\n",
    "otu_table = otu_table[idx]\n",
    "tax_table = tax_table[idx]\n",
    "#remove low abundance/prevalence taxa\n",
    "otu_table,tax_table = filter_taxa_by_prevalence(otu_table,tax_table,1)\n",
    "idx = otu_table.mean(axis=1) > 10 ** -3\n",
    "otu_table = otu_table[idx]\n",
    "tax_table = tax_table[idx]\n",
    "\n",
    "otu_table = otu_table.drop('within_individual_test',axis=1)\n"
   ]
  },
  {
   "cell_type": "code",
   "execution_count": 44,
   "metadata": {},
   "outputs": [],
   "source": [
    "probiotics = [\"s__Bifidobacterium_animalis\",\"s__Bifidobacterium_bifidum\",\"s__Clostridium_butyricum\",\"s__Lactobacillus_acidophilus\",\n",
    "               \"s__Lactobacillus_casei\",\"s__Lactobacillus_gasseri\",\"s__Lactobacillus_johnsonii\",\"s__Lactobacillus_paracasei\",\n",
    "               \"s__Lactobacillus_plantarum\",\"s__Lactobacillus_reuteri\",\"s__Lactobacillus_rhamnosus\",\"s__Clostridium_butyricum\"]"
   ]
  },
  {
   "cell_type": "code",
   "execution_count": 51,
   "metadata": {},
   "outputs": [],
   "source": [
    "probiotics_df = otu_table[otu_table.index.isin(probiotics)]\n",
    "probiotics_df = probiotics_df.T"
   ]
  },
  {
   "cell_type": "code",
   "execution_count": 52,
   "metadata": {},
   "outputs": [],
   "source": [
    "pre_idx = [bool(re.search('\\S+_pretest', x)) for x in list(probiotics_df.index)]\n",
    "post_idx = [bool(re.search('\\S+_posttest', x)) for x in list(probiotics_df.index)]\n",
    "label = ['pretest'] * probiotics_df.shape[0]\n",
    "for i in range(len(label)) :\n",
    "    if post_idx[i] :\n",
    "        label[i] = 'posttest'\n",
    "\n",
    "probiotics_df['Class'] = label"
   ]
  },
  {
   "cell_type": "code",
   "execution_count": 67,
   "metadata": {},
   "outputs": [],
   "source": [
    "id = list(probiotics_df.index)\n",
    "for i in range(len(id)) :\n",
    "    id[i] = id[i].split('_')[1]\n",
    "probiotics_df[\"Sample_ID\"] = id"
   ]
  },
  {
   "cell_type": "code",
   "execution_count": 71,
   "metadata": {},
   "outputs": [
    {
     "data": {
      "text/plain": [
       "[Text(0, 0, 'HL1K7YPW'),\n",
       " Text(1, 0, 'HTM4Y3E8'),\n",
       " Text(2, 0, 'IR3RAXJPW'),\n",
       " Text(3, 0, 'R1DT02HM'),\n",
       " Text(4, 0, 'R38RVSPD'),\n",
       " Text(5, 0, 'R3RAXJPW'),\n",
       " Text(6, 0, 'R4E3AWTR'),\n",
       " Text(7, 0, 'R721T40A'),\n",
       " Text(8, 0, 'RAN30TW8'),\n",
       " Text(9, 0, 'RRCP23N5'),\n",
       " Text(10, 0, 'RRTN9MX1')]"
      ]
     },
     "execution_count": 71,
     "metadata": {},
     "output_type": "execute_result"
    },
    {
     "data": {
      "image/png": "[encoded data removed]",
      "text/plain": [
       "<Figure size 432x288 with 1 Axes>"
      ]
     },
     "metadata": {
      "needs_background": "light"
     },
     "output_type": "display_data"
    }
   ],
   "source": [
    "ax = sns.barplot(x=\"Sample_ID\", y=\"s__Clostridium_butyricum\",hue='Class' ,data=probiotics_df)\n",
    "ax.set_xticklabels(ax.get_xticklabels(),rotation = 90)"
   ]
  },
  {
   "cell_type": "code",
   "execution_count": null,
   "metadata": {},
   "outputs": [],
   "source": []
  }
 ],
 "metadata": {
  "interpreter": {
   "hash": "a8896aeeaae841fc56cce69c301eafccebd52b5f2e2c78be19122259dda01972"
  },
  "kernelspec": {
   "display_name": "Python 3.8.5 64-bit ('base': conda)",
   "language": "python",
   "name": "python3"
  },
  "language_info": {
   "codemirror_mode": {
    "name": "ipython",
    "version": 3
   },
   "file_extension": ".py",
   "mimetype": "text/x-python",
   "name": "python",
   "nbconvert_exporter": "python",
   "pygments_lexer": "ipython3",
   "version": "3.8.5"
  },
  "orig_nbformat": 4
 },
 "nbformat": 4,
 "nbformat_minor": 2
}
